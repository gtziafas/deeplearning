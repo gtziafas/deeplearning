{
  "nbformat": 4,
  "nbformat_minor": 0,
  "metadata": {
    "colab": {
      "name": "Test Run Project-1[Deep Learning].ipynb",
      "version": "0.3.2",
      "provenance": [],
      "collapsed_sections": [],
      "toc_visible": true
    },
    "language_info": {
      "codemirror_mode": {
        "name": "ipython",
        "version": 3
      },
      "file_extension": ".py",
      "mimetype": "text/x-python",
      "name": "python",
      "nbconvert_exporter": "python",
      "pygments_lexer": "ipython3",
      "version": "3.7.1"
    },
    "kernelspec": {
      "name": "python3",
      "display_name": "Python 3"
    },
    "accelerator": "GPU"
  },
  "cells": [
    {
      "cell_type": "code",
      "metadata": {
        "id": "O0wgbl-pCxZt",
        "colab_type": "code",
        "outputId": "99aa9a4f-afeb-4ba9-a982-dadd93bbd24d",
        "colab": {
          "base_uri": "https://localhost:8080/",
          "height": 51
        }
      },
      "source": [
        "from __future__ import print_function\n",
        "from __future__ import division\n",
        "import torch\n",
        "import torch.nn as nn\n",
        "import torch.optim as optim\n",
        "import numpy as np\n",
        "import torchvision\n",
        "from torchvision import datasets, models, transforms\n",
        "import matplotlib.pyplot as plt\n",
        "import time\n",
        "import os\n",
        "import copy\n",
        "print(\"PyTorch Version: \",torch.__version__)\n",
        "print(\"Torchvision Version: \",torchvision.__version__)"
      ],
      "execution_count": 0,
      "outputs": [
        {
          "output_type": "stream",
          "text": [
            "PyTorch Version:  1.1.0\n",
            "Torchvision Version:  0.2.2\n"
          ],
          "name": "stdout"
        }
      ]
    },
    {
      "cell_type": "code",
      "metadata": {
        "id": "oRHS-PwY97ZR",
        "colab_type": "code",
        "outputId": "08bb8c3f-3950-4920-f584-fc3a5fda874c",
        "colab": {
          "base_uri": "https://localhost:8080/",
          "height": 122
        }
      },
      "source": [
        "from google.colab import drive\n",
        "drive.mount('/content/drive/')"
      ],
      "execution_count": 0,
      "outputs": [
        {
          "output_type": "stream",
          "text": [
            "Go to this URL in a browser: https://accounts.google.com/o/oauth2/auth?client_id=947318989803-6bn6qk8qdgf4n4g3pfee6491hc0brc4i.apps.googleusercontent.com&redirect_uri=urn%3Aietf%3Awg%3Aoauth%3A2.0%3Aoob&scope=email%20https%3A%2F%2Fwww.googleapis.com%2Fauth%2Fdocs.test%20https%3A%2F%2Fwww.googleapis.com%2Fauth%2Fdrive%20https%3A%2F%2Fwww.googleapis.com%2Fauth%2Fdrive.photos.readonly%20https%3A%2F%2Fwww.googleapis.com%2Fauth%2Fpeopleapi.readonly&response_type=code\n",
            "\n",
            "Enter your authorization code:\n",
            "··········\n",
            "Mounted at /content/drive/\n"
          ],
          "name": "stdout"
        }
      ]
    },
    {
      "cell_type": "code",
      "metadata": {
        "id": "Qq81iXFtCxZ3",
        "colab_type": "code",
        "colab": {}
      },
      "source": [
        "# Top level data directory. Here we assume the format of the directory conforms\n",
        "# to the ImageFolder structure\n",
        "data_dir = \"drive/My Drive/data /dataset_updated\"\n",
        "\n",
        "# Number of classes in the dataset\n",
        "num_classes = 5\n",
        "\n",
        "model_name = 'resnet'\n",
        "\n",
        "# Batch size for training (change depending on how much memory you have)\n",
        "batch_size = 7\n",
        "\n",
        "# Number of epochs to train for\n",
        "num_epochs = 30\n",
        "\n",
        "# Flag for feature extracting. When False, we finetune the whole model,\n",
        "#   when True we only update the reshaped layer params\n",
        "feature_extract = True"
      ],
      "execution_count": 0,
      "outputs": []
    },
    {
      "cell_type": "code",
      "metadata": {
        "id": "3VtOI-wiCxZ6",
        "colab_type": "code",
        "colab": {}
      },
      "source": [
        "def train_model(model, dataloaders, criterion, optimizer, num_epochs=30, is_inception=False):\n",
        "    since = time.time()\n",
        "\n",
        "    val_acc_history = []\n",
        "\n",
        "    best_model_wts = copy.deepcopy(model.state_dict())\n",
        "    best_acc = 0.0\n",
        "\n",
        "    for epoch in range(num_epochs):\n",
        "        print('Epoch {}/{}'.format(epoch, num_epochs - 1))\n",
        "        print('-' * 10)\n",
        "\n",
        "        # Each epoch has a training and validation phase\n",
        "        for phase in ['train', 'val']:\n",
        "            if phase == 'train':\n",
        "                model.train()  # Set model to training mode\n",
        "            else:\n",
        "                model.eval()   # Set model to evaluate mode\n",
        "\n",
        "            running_loss = 0.0\n",
        "            running_corrects = 0\n",
        "\n",
        "            # Iterate over data.\n",
        "            for inputs, labels in dataloaders[phase]:\n",
        "                inputs = inputs.to(device)\n",
        "                labels = labels.to(device)\n",
        "\n",
        "                # zero the parameter gradients\n",
        "                optimizer.zero_grad()\n",
        "\n",
        "                # forward\n",
        "                # track history if only in train\n",
        "                with torch.set_grad_enabled(phase == 'train'):\n",
        "                    # Get model outputs and calculate loss\n",
        "                    # Special case for inception because in training it has an auxiliary output. In train\n",
        "                    #   mode we calculate the loss by summing the final output and the auxiliary output\n",
        "                    #   but in testing we only consider the final output.\n",
        "                    if is_inception and phase == 'train':\n",
        "                        # From https://discuss.pytorch.org/t/how-to-optimize-inception-model-with-auxiliary-classifiers/7958\n",
        "                        outputs, aux_outputs = model(inputs)\n",
        "                        loss1 = criterion(outputs, labels)\n",
        "                        loss2 = criterion(aux_outputs, labels)\n",
        "                        loss = loss1 + 0.4*loss2\n",
        "                    else:\n",
        "                        outputs = model(inputs)\n",
        "                        loss = criterion(outputs, labels)\n",
        "\n",
        "                    _, preds = torch.max(outputs, 1)\n",
        "\n",
        "                    # backward + optimize only if in training phase\n",
        "                    if phase == 'train':\n",
        "                        loss.backward()\n",
        "                        optimizer.step()\n",
        "\n",
        "                # statistics\n",
        "                running_loss += loss.item() * inputs.size(0)\n",
        "                running_corrects += torch.sum(preds == labels.data)\n",
        "\n",
        "            epoch_loss = running_loss / len(dataloaders[phase].dataset)\n",
        "            epoch_acc = running_corrects.double() / len(dataloaders[phase].dataset)\n",
        "\n",
        "            print('{} Loss: {:.4f} Acc: {:.4f}'.format(phase, epoch_loss, epoch_acc))\n",
        "\n",
        "            # deep copy the model\n",
        "            if phase == 'val' and epoch_acc > best_acc:\n",
        "                best_acc = epoch_acc\n",
        "                best_model_wts = copy.deepcopy(model.state_dict())\n",
        "            if phase == 'val':\n",
        "                val_acc_history.append(epoch_acc)\n",
        "        print()\n",
        "    time_elapsed = time.time() - since\n",
        "    print('Training complete in {:.0f}m {:.0f}s'.format(time_elapsed // 60, time_elapsed % 60))\n",
        "    print('Best val Acc: {:4f}'.format(best_acc))\n",
        "    return(val_acc_history)\n"
      ],
      "execution_count": 0,
      "outputs": []
    },
    {
      "cell_type": "code",
      "metadata": {
        "id": "LR2GxtQ3CxZ9",
        "colab_type": "code",
        "colab": {}
      },
      "source": [
        "def set_parameter_requires_grad(model, feature_extracting):\n",
        "    if feature_extracting:\n",
        "        for param in model.parameters():\n",
        "            param.requires_grad = False"
      ],
      "execution_count": 0,
      "outputs": []
    },
    {
      "cell_type": "code",
      "metadata": {
        "id": "9VWrXt7_CxZ_",
        "colab_type": "code",
        "colab": {}
      },
      "source": [
        "def initialize_model(model_name, num_classes, feature_extract, use_pretrained=True):\n",
        "    # Initialize these variables which will be set in this if statement. Each of these\n",
        "    #   variables is model specific.\n",
        "    model_ft = None\n",
        "    input_size = 0\n",
        "\n",
        "    if model_name == \"resnet\":\n",
        "        \"\"\" Resnet18\n",
        "        \"\"\"\n",
        "        model_ft = models.resnet18(pretrained=use_pretrained)\n",
        "        set_parameter_requires_grad(model_ft, feature_extract)\n",
        "        num_ftrs = model_ft.fc.in_features\n",
        "        model_ft.fc = nn.Linear(num_ftrs, num_classes)\n",
        "        input_size = 224\n",
        "\n",
        "    elif model_name == \"alexnet\":\n",
        "        \"\"\" Alexnet\n",
        "        \"\"\"\n",
        "        model_ft = models.alexnet(pretrained=use_pretrained)\n",
        "        set_parameter_requires_grad(model_ft, feature_extract)\n",
        "        num_ftrs = model_ft.classifier[6].in_features\n",
        "        model_ft.classifier[6] = nn.Linear(num_ftrs,num_classes)\n",
        "        input_size = 224\n",
        "\n",
        "    elif model_name == \"vgg\":\n",
        "        \"\"\" VGG11_bn\n",
        "        \"\"\"\n",
        "        model_ft = models.vgg11_bn(pretrained=use_pretrained)\n",
        "        set_parameter_requires_grad(model_ft, feature_extract)\n",
        "        num_ftrs = model_ft.classifier[6].in_features\n",
        "        model_ft.classifier[6] = nn.Linear(num_ftrs,num_classes)\n",
        "        input_size = 224\n",
        "\n",
        "    elif model_name == \"squeezenet\":\n",
        "        \"\"\" Squeezenet\n",
        "        \"\"\"\n",
        "        model_ft = models.squeezenet1_0(pretrained=use_pretrained)\n",
        "        set_parameter_requires_grad(model_ft, feature_extract)\n",
        "        model_ft.classifier[1] = nn.Conv2d(512, num_classes, kernel_size=(1,1), stride=(1,1))\n",
        "        model_ft.num_classes = num_classes\n",
        "        input_size = 224\n",
        "\n",
        "    elif model_name == \"densenet\":\n",
        "        \"\"\" Densenet\n",
        "        \"\"\"\n",
        "        model_ft = models.densenet121(pretrained=use_pretrained)\n",
        "        set_parameter_requires_grad(model_ft, feature_extract)\n",
        "        num_ftrs = model_ft.classifier.in_features\n",
        "        model_ft.classifier = nn.Linear(num_ftrs, num_classes)\n",
        "        input_size = 224\n",
        "\n",
        "\n",
        "    else:\n",
        "        print(\"Invalid model name, exiting...\")\n",
        "        exit()\n",
        "\n",
        "    return model_ft, input_size\n",
        "\n",
        "# Initialize the model for this run\n",
        "model_ft, input_size = initialize_model(model_name, num_classes, feature_extract, use_pretrained=True)"
      ],
      "execution_count": 0,
      "outputs": []
    },
    {
      "cell_type": "code",
      "metadata": {
        "id": "E6qTTKfPCxaE",
        "colab_type": "code",
        "outputId": "99f796c7-741d-41ee-f9f7-0f031fafa918",
        "colab": {
          "base_uri": "https://localhost:8080/",
          "height": 35
        }
      },
      "source": [
        "# Data augmentation and normalization for training\n",
        "# Just normalization for validation\n",
        "data_transforms = {\n",
        "    'train': transforms.Compose([\n",
        "        transforms.RandomResizedCrop(input_size),\n",
        "        transforms.RandomHorizontalFlip(),\n",
        "        transforms.ToTensor(),\n",
        "        transforms.Normalize([0.485, 0.456, 0.406], [0.229, 0.224, 0.225])\n",
        "    ]),\n",
        "    'val': transforms.Compose([\n",
        "        transforms.Resize(input_size),\n",
        "        transforms.CenterCrop(input_size),\n",
        "        transforms.ToTensor(),\n",
        "        transforms.Normalize([0.485, 0.456, 0.406], [0.229, 0.224, 0.225])\n",
        "    ]),\n",
        "}\n",
        "\n",
        "print(\"Initializing Datasets and Dataloaders...\")\n",
        "\n",
        "# Create training and validation datasets\n",
        "image_datasets = {x: datasets.ImageFolder(os.path.join(data_dir, x), data_transforms[x]) for x in ['train', 'val']}\n",
        "# Create training and validation dataloaders\n",
        "dataloaders_dict = {x: torch.utils.data.DataLoader(image_datasets[x], batch_size=batch_size, shuffle=True) for x in ['train', 'val']}\n",
        "\n",
        "# Detect if we have a GPU available\n",
        "device = torch.device(\"cuda:0\" if torch.cuda.is_available() else \"cpu\")"
      ],
      "execution_count": 0,
      "outputs": [
        {
          "output_type": "stream",
          "text": [
            "Initializing Datasets and Dataloaders...\n"
          ],
          "name": "stdout"
        }
      ]
    },
    {
      "cell_type": "code",
      "metadata": {
        "id": "GdrICGqlCxaH",
        "colab_type": "code",
        "outputId": "4e92cb19-0aff-4177-b97b-12330d5ee690",
        "colab": {
          "base_uri": "https://localhost:8080/",
          "height": 69
        }
      },
      "source": [
        "params_to_update = model_ft.parameters()\n",
        "print(\"Params to learn:\")\n",
        "if feature_extract:\n",
        "    params_to_update = []\n",
        "    for name,param in model_ft.named_parameters():\n",
        "        if param.requires_grad == True:\n",
        "            params_to_update.append(param)\n",
        "            print(\"\\t\",name)\n",
        "else:\n",
        "    for name,param in model_ft.named_parameters():\n",
        "        if param.requires_grad == True:\n",
        "            print(\"\\t\",name)\n",
        "\n",
        "# Observe that all parameters are being optimized\n",
        "optimizer_ft = optim.SGD(params_to_update, lr=0.001, momentum=0.9)"
      ],
      "execution_count": 0,
      "outputs": [
        {
          "output_type": "stream",
          "text": [
            "Params to learn:\n",
            "\t fc.weight\n",
            "\t fc.bias\n"
          ],
          "name": "stdout"
        }
      ]
    },
    {
      "cell_type": "code",
      "metadata": {
        "id": "lVqviVhSiT3M",
        "colab_type": "code",
        "outputId": "dd990b7d-840a-4884-a080-b60901d2b0cd",
        "colab": {
          "base_uri": "https://localhost:8080/",
          "height": 52
        }
      },
      "source": [
        "dataloaders_dict"
      ],
      "execution_count": 0,
      "outputs": [
        {
          "output_type": "execute_result",
          "data": {
            "text/plain": [
              "{'train': <torch.utils.data.dataloader.DataLoader at 0x7fcef24a1a58>,\n",
              " 'val': <torch.utils.data.dataloader.DataLoader at 0x7fcef24a1710>}"
            ]
          },
          "metadata": {
            "tags": []
          },
          "execution_count": 46
        }
      ]
    },
    {
      "cell_type": "markdown",
      "metadata": {
        "id": "KhaGrK8CCxaK",
        "colab_type": "text"
      },
      "source": [
        "### Using Pre-trained Network as Feature Extractor\n",
        "\n",
        "We use ['resnet', 'alexnet', 'vgg', 'squeezenet', 'densenet'] as feature extractor and train the final layer for a 7 class classification task. We finally plot the validation accuracies obtained from all the five pre-trained networks over 20 epochs. "
      ]
    },
    {
      "cell_type": "code",
      "metadata": {
        "scrolled": true,
        "id": "6lRqbk9-CxaL",
        "colab_type": "code",
        "colab": {}
      },
      "source": [
        ""
      ],
      "execution_count": 0,
      "outputs": []
    },
    {
      "cell_type": "code",
      "metadata": {
        "id": "AAWY9X_1CxaP",
        "colab_type": "code",
        "colab": {}
      },
      "source": [
        ""
      ],
      "execution_count": 0,
      "outputs": []
    },
    {
      "cell_type": "code",
      "metadata": {
        "id": "5AkD2Qx3ig-C",
        "colab_type": "code",
        "colab": {}
      },
      "source": [
        ""
      ],
      "execution_count": 0,
      "outputs": []
    },
    {
      "cell_type": "code",
      "metadata": {
        "id": "hAMHXCsViiTx",
        "colab_type": "code",
        "colab": {}
      },
      "source": [
        ""
      ],
      "execution_count": 0,
      "outputs": []
    },
    {
      "cell_type": "markdown",
      "metadata": {
        "id": "FaMlj70lCxaT",
        "colab_type": "text"
      },
      "source": [
        "### Training Pre-trained Network from Scratch\n",
        "\n",
        "We use ['resnet', 'alexnet', 'vgg', 'squeezenet', 'densenet'] and train them from scratch for a 7 class classification task. We finally plot the validation accuracies obtained from all the five pre-trained networks over 20 epochs. "
      ]
    },
    {
      "cell_type": "code",
      "metadata": {
        "id": "_OG5uWnbCxaU",
        "colab_type": "code",
        "colab": {}
      },
      "source": [
        "def train_call(model_name):\n",
        "    # Initialize the non-pretrained version of the model used for this run\n",
        "    model,_ = initialize_model(model_name, num_classes, feature_extract=False, use_pretrained=False)\n",
        "    model = model.to(device)\n",
        "    optimizer = optim.Adam(model.parameters(), lr=0.0001)\n",
        "    criterion = nn.CrossEntropyLoss()\n",
        "    return(train_model(model, dataloaders_dict, criterion, optimizer))\n"
      ],
      "execution_count": 0,
      "outputs": []
    },
    {
      "cell_type": "code",
      "metadata": {
        "id": "9O4UEHuSlgwa",
        "colab_type": "code",
        "colab": {}
      },
      "source": [
        "## basically, we loop through each model in the model_list\n",
        "\n",
        "model_list = ['resnet', 'alexnet', 'vgg', 'squeezenet', 'densenet']\n",
        "\n",
        "acc_history_scratch = {}"
      ],
      "execution_count": 0,
      "outputs": []
    },
    {
      "cell_type": "code",
      "metadata": {
        "id": "vLLyBjs4voVI",
        "colab_type": "code",
        "outputId": "a407a26f-f526-482b-d99f-1aeb0c804153",
        "colab": {
          "base_uri": "https://localhost:8080/",
          "height": 2811
        }
      },
      "source": [
        "model_name = 'alexnet'\n",
        "acc_history_scratch[model_name] = train_call(model_name)"
      ],
      "execution_count": 0,
      "outputs": [
        {
          "output_type": "stream",
          "text": [
            "Epoch 0/29\n",
            "----------\n"
          ],
          "name": "stdout"
        },
        {
          "output_type": "stream",
          "text": [
            "/usr/local/lib/python3.6/dist-packages/PIL/Image.py:914: UserWarning: Palette images with Transparency   expressed in bytes should be converted to RGBA images\n",
            "  'to RGBA images')\n",
            "/usr/local/lib/python3.6/dist-packages/PIL/TiffImagePlugin.py:725: UserWarning: Possibly corrupt EXIF data.  Expecting to read 6029312 bytes but only got 0. Skipping tag 0\n",
            "  \" Skipping tag %s\" % (size, len(data), tag))\n",
            "/usr/local/lib/python3.6/dist-packages/PIL/TiffImagePlugin.py:725: UserWarning: Possibly corrupt EXIF data.  Expecting to read 1311848 bytes but only got 785. Skipping tag 0\n",
            "  \" Skipping tag %s\" % (size, len(data), tag))\n",
            "/usr/local/lib/python3.6/dist-packages/PIL/TiffImagePlugin.py:742: UserWarning: Corrupt EXIF data.  Expecting to read 12 bytes but only got 8. \n",
            "  warnings.warn(str(msg))\n"
          ],
          "name": "stderr"
        },
        {
          "output_type": "stream",
          "text": [
            "train Loss: 1.3738 Acc: 0.4222\n",
            "val Loss: 1.4045 Acc: 0.4871\n",
            "\n",
            "Epoch 1/29\n",
            "----------\n",
            "train Loss: 1.1802 Acc: 0.5330\n",
            "val Loss: 0.9782 Acc: 0.6273\n",
            "\n",
            "Epoch 2/29\n",
            "----------\n",
            "train Loss: 1.1158 Acc: 0.5646\n",
            "val Loss: 1.0082 Acc: 0.6402\n",
            "\n",
            "Epoch 3/29\n",
            "----------\n",
            "train Loss: 1.0906 Acc: 0.5701\n",
            "val Loss: 0.8916 Acc: 0.6671\n",
            "\n",
            "Epoch 4/29\n",
            "----------\n",
            "train Loss: 1.0606 Acc: 0.5929\n",
            "val Loss: 0.8929 Acc: 0.6554\n",
            "\n",
            "Epoch 5/29\n",
            "----------\n",
            "train Loss: 1.0247 Acc: 0.6034\n",
            "val Loss: 0.8690 Acc: 0.6624\n",
            "\n",
            "Epoch 6/29\n",
            "----------\n",
            "train Loss: 1.0523 Acc: 0.6033\n",
            "val Loss: 0.8445 Acc: 0.6671\n",
            "\n",
            "Epoch 7/29\n",
            "----------\n",
            "train Loss: 1.0007 Acc: 0.6199\n",
            "val Loss: 0.8820 Acc: 0.6928\n",
            "\n",
            "Epoch 8/29\n",
            "----------\n",
            "train Loss: 0.9853 Acc: 0.6315\n",
            "val Loss: 0.9888 Acc: 0.6367\n",
            "\n",
            "Epoch 9/29\n",
            "----------\n",
            "train Loss: 0.9644 Acc: 0.6380\n",
            "val Loss: 0.8256 Acc: 0.6939\n",
            "\n",
            "Epoch 10/29\n",
            "----------\n",
            "train Loss: 0.9939 Acc: 0.6326\n",
            "val Loss: 0.8356 Acc: 0.7196\n",
            "\n",
            "Epoch 11/29\n",
            "----------\n",
            "train Loss: 0.9700 Acc: 0.6405\n",
            "val Loss: 0.8044 Acc: 0.6998\n",
            "\n",
            "Epoch 12/29\n",
            "----------\n",
            "train Loss: 1.0321 Acc: 0.6188\n",
            "val Loss: 0.8743 Acc: 0.6589\n",
            "\n",
            "Epoch 13/29\n",
            "----------\n",
            "train Loss: 0.9759 Acc: 0.6358\n",
            "val Loss: 0.8219 Acc: 0.7161\n",
            "\n",
            "Epoch 14/29\n",
            "----------\n",
            "train Loss: 0.9585 Acc: 0.6458\n",
            "val Loss: 0.7812 Acc: 0.7009\n",
            "\n",
            "Epoch 15/29\n",
            "----------\n",
            "train Loss: 0.9402 Acc: 0.6472\n",
            "val Loss: 0.7696 Acc: 0.7231\n",
            "\n",
            "Epoch 16/29\n",
            "----------\n",
            "train Loss: 0.9611 Acc: 0.6499\n",
            "val Loss: 0.8618 Acc: 0.6811\n",
            "\n",
            "Epoch 17/29\n",
            "----------\n",
            "train Loss: 0.9595 Acc: 0.6469\n",
            "val Loss: 0.7864 Acc: 0.7021\n",
            "\n",
            "Epoch 18/29\n",
            "----------\n",
            "train Loss: 0.9654 Acc: 0.6478\n",
            "val Loss: 0.8160 Acc: 0.7325\n",
            "\n",
            "Epoch 19/29\n",
            "----------\n",
            "train Loss: 1.0206 Acc: 0.6263\n",
            "val Loss: 0.7934 Acc: 0.7360\n",
            "\n",
            "Epoch 20/29\n",
            "----------\n",
            "train Loss: 0.9793 Acc: 0.6455\n",
            "val Loss: 0.7739 Acc: 0.7290\n",
            "\n",
            "Epoch 21/29\n",
            "----------\n",
            "train Loss: 0.9332 Acc: 0.6656\n",
            "val Loss: 0.7808 Acc: 0.6951\n",
            "\n",
            "Epoch 22/29\n",
            "----------\n",
            "train Loss: 0.9349 Acc: 0.6609\n",
            "val Loss: 0.7563 Acc: 0.7243\n",
            "\n",
            "Epoch 23/29\n",
            "----------\n",
            "train Loss: 0.9275 Acc: 0.6607\n",
            "val Loss: 0.8099 Acc: 0.7079\n",
            "\n",
            "Epoch 24/29\n",
            "----------\n",
            "train Loss: 0.9468 Acc: 0.6568\n",
            "val Loss: 0.7530 Acc: 0.7243\n",
            "\n",
            "Epoch 25/29\n",
            "----------\n",
            "train Loss: 0.9034 Acc: 0.6658\n",
            "val Loss: 0.8616 Acc: 0.7033\n",
            "\n",
            "Epoch 26/29\n",
            "----------\n",
            "train Loss: 0.9745 Acc: 0.6421\n",
            "val Loss: 0.8393 Acc: 0.7138\n",
            "\n",
            "Epoch 27/29\n",
            "----------\n",
            "train Loss: 0.9238 Acc: 0.6613\n",
            "val Loss: 0.8113 Acc: 0.7103\n",
            "\n",
            "Epoch 28/29\n",
            "----------\n",
            "train Loss: 0.9372 Acc: 0.6595\n",
            "val Loss: 0.8537 Acc: 0.6659\n",
            "\n",
            "Epoch 29/29\n",
            "----------\n",
            "train Loss: 0.9220 Acc: 0.6570\n",
            "val Loss: 0.7706 Acc: 0.7266\n",
            "\n",
            "Training complete in 41m 57s\n",
            "Best val Acc: 0.735981\n"
          ],
          "name": "stdout"
        }
      ]
    },
    {
      "cell_type": "code",
      "metadata": {
        "id": "NvvM0tsMwN6M",
        "colab_type": "code",
        "outputId": "4d53139a-165a-48b3-f5f8-cc9ae83dc5ca",
        "colab": {
          "base_uri": "https://localhost:8080/",
          "height": 2811
        }
      },
      "source": [
        "model_name = 'squeezenet'\n",
        "acc_history_scratch[model_name] = train_call(model_name)"
      ],
      "execution_count": 0,
      "outputs": [
        {
          "output_type": "stream",
          "text": [
            "Epoch 0/29\n",
            "----------\n"
          ],
          "name": "stdout"
        },
        {
          "output_type": "stream",
          "text": [
            "/usr/local/lib/python3.6/dist-packages/PIL/Image.py:914: UserWarning: Palette images with Transparency   expressed in bytes should be converted to RGBA images\n",
            "  'to RGBA images')\n",
            "/usr/local/lib/python3.6/dist-packages/PIL/TiffImagePlugin.py:725: UserWarning: Possibly corrupt EXIF data.  Expecting to read 6029312 bytes but only got 0. Skipping tag 0\n",
            "  \" Skipping tag %s\" % (size, len(data), tag))\n",
            "/usr/local/lib/python3.6/dist-packages/PIL/TiffImagePlugin.py:725: UserWarning: Possibly corrupt EXIF data.  Expecting to read 1311848 bytes but only got 785. Skipping tag 0\n",
            "  \" Skipping tag %s\" % (size, len(data), tag))\n",
            "/usr/local/lib/python3.6/dist-packages/PIL/TiffImagePlugin.py:742: UserWarning: Corrupt EXIF data.  Expecting to read 12 bytes but only got 8. \n",
            "  warnings.warn(str(msg))\n"
          ],
          "name": "stderr"
        },
        {
          "output_type": "stream",
          "text": [
            "train Loss: 1.2750 Acc: 0.4881\n",
            "val Loss: 1.0438 Acc: 0.6121\n",
            "\n",
            "Epoch 1/29\n",
            "----------\n",
            "train Loss: 1.1547 Acc: 0.5600\n",
            "val Loss: 1.0374 Acc: 0.6086\n",
            "\n",
            "Epoch 2/29\n",
            "----------\n",
            "train Loss: 1.0920 Acc: 0.5883\n",
            "val Loss: 0.9981 Acc: 0.6390\n",
            "\n",
            "Epoch 3/29\n",
            "----------\n",
            "train Loss: 1.0208 Acc: 0.6298\n",
            "val Loss: 0.9341 Acc: 0.6741\n",
            "\n",
            "Epoch 4/29\n",
            "----------\n",
            "train Loss: 0.9811 Acc: 0.6521\n",
            "val Loss: 0.8834 Acc: 0.6904\n",
            "\n",
            "Epoch 5/29\n",
            "----------\n",
            "train Loss: 0.9328 Acc: 0.6662\n",
            "val Loss: 0.8863 Acc: 0.6729\n",
            "\n",
            "Epoch 6/29\n",
            "----------\n",
            "train Loss: 0.8980 Acc: 0.6810\n",
            "val Loss: 0.8120 Acc: 0.7173\n",
            "\n",
            "Epoch 7/29\n",
            "----------\n",
            "train Loss: 0.8803 Acc: 0.6899\n",
            "val Loss: 0.7645 Acc: 0.7348\n",
            "\n",
            "Epoch 8/29\n",
            "----------\n",
            "train Loss: 0.8557 Acc: 0.6965\n",
            "val Loss: 0.7752 Acc: 0.7290\n",
            "\n",
            "Epoch 9/29\n",
            "----------\n",
            "train Loss: 0.8424 Acc: 0.6980\n",
            "val Loss: 0.8349 Acc: 0.6928\n",
            "\n",
            "Epoch 10/29\n",
            "----------\n",
            "train Loss: 0.8425 Acc: 0.7013\n",
            "val Loss: 0.7770 Acc: 0.7348\n",
            "\n",
            "Epoch 11/29\n",
            "----------\n",
            "train Loss: 0.8395 Acc: 0.6999\n",
            "val Loss: 0.7326 Acc: 0.7465\n",
            "\n",
            "Epoch 12/29\n",
            "----------\n",
            "train Loss: 0.8160 Acc: 0.7088\n",
            "val Loss: 0.7651 Acc: 0.7418\n",
            "\n",
            "Epoch 13/29\n",
            "----------\n",
            "train Loss: 0.8082 Acc: 0.7100\n",
            "val Loss: 0.7086 Acc: 0.7477\n",
            "\n",
            "Epoch 14/29\n",
            "----------\n",
            "train Loss: 0.7965 Acc: 0.7195\n",
            "val Loss: 0.7516 Acc: 0.7383\n",
            "\n",
            "Epoch 15/29\n",
            "----------\n",
            "train Loss: 0.7929 Acc: 0.7192\n",
            "val Loss: 0.7181 Acc: 0.7430\n",
            "\n",
            "Epoch 16/29\n",
            "----------\n",
            "train Loss: 0.7938 Acc: 0.7151\n",
            "val Loss: 0.7434 Acc: 0.7313\n",
            "\n",
            "Epoch 17/29\n",
            "----------\n",
            "train Loss: 0.7807 Acc: 0.7248\n",
            "val Loss: 0.6917 Acc: 0.7535\n",
            "\n",
            "Epoch 18/29\n",
            "----------\n",
            "train Loss: 0.7739 Acc: 0.7209\n",
            "val Loss: 0.7437 Acc: 0.7430\n",
            "\n",
            "Epoch 19/29\n",
            "----------\n",
            "train Loss: 0.7612 Acc: 0.7272\n",
            "val Loss: 0.7048 Acc: 0.7465\n",
            "\n",
            "Epoch 20/29\n",
            "----------\n",
            "train Loss: 0.7568 Acc: 0.7256\n",
            "val Loss: 0.7866 Acc: 0.7150\n",
            "\n",
            "Epoch 21/29\n",
            "----------\n",
            "train Loss: 0.7527 Acc: 0.7323\n",
            "val Loss: 0.7553 Acc: 0.7325\n",
            "\n",
            "Epoch 22/29\n",
            "----------\n",
            "train Loss: 0.7613 Acc: 0.7279\n",
            "val Loss: 0.7537 Acc: 0.7266\n",
            "\n",
            "Epoch 23/29\n",
            "----------\n",
            "train Loss: 0.7508 Acc: 0.7305\n",
            "val Loss: 0.7112 Acc: 0.7301\n",
            "\n",
            "Epoch 24/29\n",
            "----------\n",
            "train Loss: 0.7514 Acc: 0.7302\n",
            "val Loss: 0.8749 Acc: 0.7150\n",
            "\n",
            "Epoch 25/29\n",
            "----------\n",
            "train Loss: 0.7631 Acc: 0.7279\n",
            "val Loss: 0.7069 Acc: 0.7488\n",
            "\n",
            "Epoch 26/29\n",
            "----------\n",
            "train Loss: 0.7464 Acc: 0.7307\n",
            "val Loss: 0.6943 Acc: 0.7477\n",
            "\n",
            "Epoch 27/29\n",
            "----------\n",
            "train Loss: 0.7383 Acc: 0.7350\n",
            "val Loss: 0.7254 Acc: 0.7465\n",
            "\n",
            "Epoch 28/29\n",
            "----------\n",
            "train Loss: 0.7591 Acc: 0.7332\n",
            "val Loss: 0.6722 Acc: 0.7629\n",
            "\n",
            "Epoch 29/29\n",
            "----------\n",
            "train Loss: 0.7725 Acc: 0.7204\n",
            "val Loss: 0.7293 Acc: 0.7360\n",
            "\n",
            "Training complete in 39m 27s\n",
            "Best val Acc: 0.762850\n"
          ],
          "name": "stdout"
        }
      ]
    },
    {
      "cell_type": "code",
      "metadata": {
        "id": "jMVYZQC-h7Yb",
        "colab_type": "code",
        "outputId": "b56f81d1-3bd3-4693-87e9-37416228d8ff",
        "colab": {
          "base_uri": "https://localhost:8080/",
          "height": 2811
        }
      },
      "source": [
        "model_name = 'densenet'\n",
        "acc_history_scratch[model_name] = train_call(model_name)"
      ],
      "execution_count": 0,
      "outputs": [
        {
          "output_type": "stream",
          "text": [
            "Epoch 0/29\n",
            "----------\n"
          ],
          "name": "stdout"
        },
        {
          "output_type": "stream",
          "text": [
            "/usr/local/lib/python3.6/dist-packages/PIL/Image.py:914: UserWarning: Palette images with Transparency   expressed in bytes should be converted to RGBA images\n",
            "  'to RGBA images')\n",
            "/usr/local/lib/python3.6/dist-packages/PIL/TiffImagePlugin.py:725: UserWarning: Possibly corrupt EXIF data.  Expecting to read 6029312 bytes but only got 0. Skipping tag 0\n",
            "  \" Skipping tag %s\" % (size, len(data), tag))\n",
            "/usr/local/lib/python3.6/dist-packages/PIL/TiffImagePlugin.py:725: UserWarning: Possibly corrupt EXIF data.  Expecting to read 1311848 bytes but only got 785. Skipping tag 0\n",
            "  \" Skipping tag %s\" % (size, len(data), tag))\n",
            "/usr/local/lib/python3.6/dist-packages/PIL/TiffImagePlugin.py:742: UserWarning: Corrupt EXIF data.  Expecting to read 12 bytes but only got 8. \n",
            "  warnings.warn(str(msg))\n"
          ],
          "name": "stderr"
        },
        {
          "output_type": "stream",
          "text": [
            "train Loss: 1.1357 Acc: 0.5587\n",
            "val Loss: 1.2022 Acc: 0.5829\n",
            "\n",
            "Epoch 1/29\n",
            "----------\n",
            "train Loss: 0.9726 Acc: 0.6436\n",
            "val Loss: 1.2200 Acc: 0.6285\n",
            "\n",
            "Epoch 2/29\n",
            "----------\n",
            "train Loss: 0.9061 Acc: 0.6687\n",
            "val Loss: 0.7325 Acc: 0.7418\n",
            "\n",
            "Epoch 3/29\n",
            "----------\n",
            "train Loss: 0.8557 Acc: 0.6884\n",
            "val Loss: 0.7799 Acc: 0.7313\n",
            "\n",
            "Epoch 4/29\n",
            "----------\n",
            "train Loss: 0.8111 Acc: 0.7070\n",
            "val Loss: 0.6730 Acc: 0.7792\n",
            "\n",
            "Epoch 5/29\n",
            "----------\n",
            "train Loss: 0.7685 Acc: 0.7204\n",
            "val Loss: 0.7585 Acc: 0.7512\n",
            "\n",
            "Epoch 6/29\n",
            "----------\n",
            "train Loss: 0.7454 Acc: 0.7236\n",
            "val Loss: 0.5783 Acc: 0.8178\n",
            "\n",
            "Epoch 7/29\n",
            "----------\n",
            "train Loss: 0.7104 Acc: 0.7465\n",
            "val Loss: 0.7180 Acc: 0.7722\n",
            "\n",
            "Epoch 8/29\n",
            "----------\n",
            "train Loss: 0.6719 Acc: 0.7561\n",
            "val Loss: 0.7304 Acc: 0.7465\n",
            "\n",
            "Epoch 9/29\n",
            "----------\n",
            "train Loss: 0.6498 Acc: 0.7669\n",
            "val Loss: 0.6017 Acc: 0.8283\n",
            "\n",
            "Epoch 10/29\n",
            "----------\n",
            "train Loss: 0.6244 Acc: 0.7755\n",
            "val Loss: 1.0956 Acc: 0.7862\n",
            "\n",
            "Epoch 11/29\n",
            "----------\n",
            "train Loss: 0.6089 Acc: 0.7831\n",
            "val Loss: 0.5040 Acc: 0.8306\n",
            "\n",
            "Epoch 12/29\n",
            "----------\n",
            "train Loss: 0.5860 Acc: 0.7903\n",
            "val Loss: 0.6365 Acc: 0.8166\n",
            "\n",
            "Epoch 13/29\n",
            "----------\n",
            "train Loss: 0.5667 Acc: 0.7934\n",
            "val Loss: 0.6234 Acc: 0.8271\n",
            "\n",
            "Epoch 14/29\n",
            "----------\n",
            "train Loss: 0.5449 Acc: 0.7998\n",
            "val Loss: 1.6014 Acc: 0.7967\n",
            "\n",
            "Epoch 15/29\n",
            "----------\n",
            "train Loss: 0.5453 Acc: 0.7989\n",
            "val Loss: 0.5021 Acc: 0.8306\n",
            "\n",
            "Epoch 16/29\n",
            "----------\n",
            "train Loss: 0.5238 Acc: 0.8114\n",
            "val Loss: 0.7054 Acc: 0.8271\n",
            "\n",
            "Epoch 17/29\n",
            "----------\n",
            "train Loss: 0.5158 Acc: 0.8154\n",
            "val Loss: 0.4081 Acc: 0.8610\n",
            "\n",
            "Epoch 18/29\n",
            "----------\n",
            "train Loss: 0.4998 Acc: 0.8162\n",
            "val Loss: 0.4834 Acc: 0.8364\n",
            "\n",
            "Epoch 19/29\n",
            "----------\n",
            "train Loss: 0.4916 Acc: 0.8166\n",
            "val Loss: 0.4630 Acc: 0.8563\n",
            "\n",
            "Epoch 20/29\n",
            "----------\n",
            "train Loss: 0.4629 Acc: 0.8328\n",
            "val Loss: 0.4769 Acc: 0.8446\n",
            "\n",
            "Epoch 21/29\n",
            "----------\n",
            "train Loss: 0.4599 Acc: 0.8297\n",
            "val Loss: 0.4654 Acc: 0.8481\n",
            "\n",
            "Epoch 22/29\n",
            "----------\n",
            "train Loss: 0.4378 Acc: 0.8372\n",
            "val Loss: 0.3930 Acc: 0.8598\n",
            "\n",
            "Epoch 23/29\n",
            "----------\n",
            "train Loss: 0.4497 Acc: 0.8299\n",
            "val Loss: 0.5788 Acc: 0.8516\n",
            "\n",
            "Epoch 24/29\n",
            "----------\n",
            "train Loss: 0.4227 Acc: 0.8435\n",
            "val Loss: 0.4503 Acc: 0.8621\n",
            "\n",
            "Epoch 25/29\n",
            "----------\n",
            "train Loss: 0.4269 Acc: 0.8407\n",
            "val Loss: 0.4564 Acc: 0.8680\n",
            "\n",
            "Epoch 26/29\n",
            "----------\n",
            "train Loss: 0.4085 Acc: 0.8463\n",
            "val Loss: 0.3644 Acc: 0.8703\n",
            "\n",
            "Epoch 27/29\n",
            "----------\n",
            "train Loss: 0.4093 Acc: 0.8450\n",
            "val Loss: 0.3990 Acc: 0.8586\n",
            "\n",
            "Epoch 28/29\n",
            "----------\n",
            "train Loss: 0.3997 Acc: 0.8521\n",
            "val Loss: 0.3438 Acc: 0.8762\n",
            "\n",
            "Epoch 29/29\n",
            "----------\n",
            "train Loss: 0.3957 Acc: 0.8518\n",
            "val Loss: 0.3597 Acc: 0.8668\n",
            "\n",
            "Training complete in 87m 56s\n",
            "Best val Acc: 0.876168\n"
          ],
          "name": "stdout"
        }
      ]
    },
    {
      "cell_type": "code",
      "metadata": {
        "id": "jRk8mC6fi5e6",
        "colab_type": "code",
        "outputId": "6355fbd6-8f98-4495-847c-c40e8d988f67",
        "colab": {
          "base_uri": "https://localhost:8080/",
          "height": 2811
        }
      },
      "source": [
        "model_name = 'vgg'\n",
        "acc_history_scratch[model_name] = train_call(model_name)"
      ],
      "execution_count": 0,
      "outputs": [
        {
          "output_type": "stream",
          "text": [
            "Epoch 0/29\n",
            "----------\n"
          ],
          "name": "stdout"
        },
        {
          "output_type": "stream",
          "text": [
            "/usr/local/lib/python3.6/dist-packages/PIL/TiffImagePlugin.py:725: UserWarning: Possibly corrupt EXIF data.  Expecting to read 6029312 bytes but only got 0. Skipping tag 0\n",
            "  \" Skipping tag %s\" % (size, len(data), tag))\n",
            "/usr/local/lib/python3.6/dist-packages/PIL/TiffImagePlugin.py:725: UserWarning: Possibly corrupt EXIF data.  Expecting to read 1311848 bytes but only got 785. Skipping tag 0\n",
            "  \" Skipping tag %s\" % (size, len(data), tag))\n",
            "/usr/local/lib/python3.6/dist-packages/PIL/TiffImagePlugin.py:742: UserWarning: Corrupt EXIF data.  Expecting to read 12 bytes but only got 8. \n",
            "  warnings.warn(str(msg))\n",
            "/usr/local/lib/python3.6/dist-packages/PIL/Image.py:914: UserWarning: Palette images with Transparency   expressed in bytes should be converted to RGBA images\n",
            "  'to RGBA images')\n"
          ],
          "name": "stderr"
        },
        {
          "output_type": "stream",
          "text": [
            "train Loss: 1.2640 Acc: 0.5593\n",
            "val Loss: 0.7090 Acc: 0.7675\n",
            "\n",
            "Epoch 1/29\n",
            "----------\n",
            "train Loss: 0.9603 Acc: 0.6592\n",
            "val Loss: 0.8336 Acc: 0.7535\n",
            "\n",
            "Epoch 2/29\n",
            "----------\n",
            "train Loss: 0.8754 Acc: 0.6969\n",
            "val Loss: 0.6666 Acc: 0.7710\n",
            "\n",
            "Epoch 3/29\n",
            "----------\n",
            "train Loss: 0.8208 Acc: 0.7125\n",
            "val Loss: 0.7444 Acc: 0.7745\n",
            "\n",
            "Epoch 4/29\n",
            "----------\n",
            "train Loss: 0.7570 Acc: 0.7328\n",
            "val Loss: 0.5722 Acc: 0.7932\n",
            "\n",
            "Epoch 5/29\n",
            "----------\n",
            "train Loss: 0.7344 Acc: 0.7415\n",
            "val Loss: 0.7930 Acc: 0.7558\n",
            "\n",
            "Epoch 6/29\n",
            "----------\n",
            "train Loss: 0.6991 Acc: 0.7531\n",
            "val Loss: 0.6180 Acc: 0.7769\n",
            "\n",
            "Epoch 7/29\n",
            "----------\n",
            "train Loss: 0.6803 Acc: 0.7569\n",
            "val Loss: 0.5439 Acc: 0.8143\n",
            "\n",
            "Epoch 8/29\n",
            "----------\n",
            "train Loss: 0.6590 Acc: 0.7657\n",
            "val Loss: 0.5606 Acc: 0.8049\n",
            "\n",
            "Epoch 9/29\n",
            "----------\n",
            "train Loss: 0.6484 Acc: 0.7713\n",
            "val Loss: 0.5252 Acc: 0.8271\n",
            "\n",
            "Epoch 10/29\n",
            "----------\n",
            "train Loss: 0.6241 Acc: 0.7779\n",
            "val Loss: 0.6957 Acc: 0.7558\n",
            "\n",
            "Epoch 11/29\n",
            "----------\n",
            "train Loss: 0.6183 Acc: 0.7794\n",
            "val Loss: 0.4900 Acc: 0.8294\n",
            "\n",
            "Epoch 12/29\n",
            "----------\n",
            "train Loss: 0.5883 Acc: 0.7901\n",
            "val Loss: 0.5458 Acc: 0.7956\n",
            "\n",
            "Epoch 13/29\n",
            "----------\n",
            "train Loss: 0.5748 Acc: 0.7901\n",
            "val Loss: 0.5388 Acc: 0.8224\n",
            "\n",
            "Epoch 14/29\n",
            "----------\n",
            "train Loss: 0.5761 Acc: 0.7990\n",
            "val Loss: 0.5170 Acc: 0.8201\n",
            "\n",
            "Epoch 15/29\n",
            "----------\n",
            "train Loss: 0.5641 Acc: 0.7960\n",
            "val Loss: 0.4114 Acc: 0.8493\n",
            "\n",
            "Epoch 16/29\n",
            "----------\n",
            "train Loss: 0.5501 Acc: 0.8035\n",
            "val Loss: 0.4646 Acc: 0.8341\n",
            "\n",
            "Epoch 17/29\n",
            "----------\n",
            "train Loss: 0.5365 Acc: 0.8075\n",
            "val Loss: 0.4112 Acc: 0.8481\n",
            "\n",
            "Epoch 18/29\n",
            "----------\n",
            "train Loss: 0.5221 Acc: 0.8144\n",
            "val Loss: 0.4123 Acc: 0.8516\n",
            "\n",
            "Epoch 19/29\n",
            "----------\n",
            "train Loss: 0.5233 Acc: 0.8106\n",
            "val Loss: 0.4087 Acc: 0.8563\n",
            "\n",
            "Epoch 20/29\n",
            "----------\n",
            "train Loss: 0.5162 Acc: 0.8170\n",
            "val Loss: 0.4321 Acc: 0.8505\n",
            "\n",
            "Epoch 21/29\n",
            "----------\n",
            "train Loss: 0.5130 Acc: 0.8174\n",
            "val Loss: 0.4091 Acc: 0.8516\n",
            "\n",
            "Epoch 22/29\n",
            "----------\n",
            "train Loss: 0.4947 Acc: 0.8259\n",
            "val Loss: 0.3827 Acc: 0.8586\n",
            "\n",
            "Epoch 23/29\n",
            "----------\n",
            "train Loss: 0.4919 Acc: 0.8254\n",
            "val Loss: 0.3955 Acc: 0.8493\n",
            "\n",
            "Epoch 24/29\n",
            "----------\n",
            "train Loss: 0.4873 Acc: 0.8294\n",
            "val Loss: 0.3931 Acc: 0.8563\n",
            "\n",
            "Epoch 25/29\n",
            "----------\n",
            "train Loss: 0.4805 Acc: 0.8306\n",
            "val Loss: 0.4015 Acc: 0.8540\n",
            "\n",
            "Epoch 26/29\n",
            "----------\n",
            "train Loss: 0.4749 Acc: 0.8301\n",
            "val Loss: 0.3974 Acc: 0.8633\n",
            "\n",
            "Epoch 27/29\n",
            "----------\n",
            "train Loss: 0.4645 Acc: 0.8302\n",
            "val Loss: 0.3490 Acc: 0.8657\n",
            "\n",
            "Epoch 28/29\n",
            "----------\n",
            "train Loss: 0.4579 Acc: 0.8403\n",
            "val Loss: 0.3712 Acc: 0.8540\n",
            "\n",
            "Epoch 29/29\n",
            "----------\n",
            "train Loss: 0.4346 Acc: 0.8429\n",
            "val Loss: 0.3533 Acc: 0.8551\n",
            "\n",
            "Training complete in 92m 47s\n",
            "Best val Acc: 0.865654\n"
          ],
          "name": "stdout"
        }
      ]
    },
    {
      "cell_type": "code",
      "metadata": {
        "id": "8WMkRAFieFlb",
        "colab_type": "code",
        "outputId": "cb016e2d-131f-4154-cf88-efd0fa1ca2e0",
        "colab": {
          "base_uri": "https://localhost:8080/",
          "height": 295
        }
      },
      "source": [
        "# Plot the training curves of validation accuracy vs. number\n",
        "# of training epochs for the transfer learning method and\n",
        "# the model trained from scratch\n",
        "resnet = []\n",
        "alexnet = []\n",
        "vgg = []\n",
        "squeezenet = []\n",
        "densenet = []\n",
        "\n",
        "resnet = [h.cpu().numpy() for h in acc_history_scratch['resnet']]\n",
        "alexnet = [h.cpu().numpy() for h in acc_history_scratch['alexnet']]\n",
        "vgg = [h.cpu().numpy() for h in acc_history_scratch['vgg']]\n",
        "squeezenet = [h.cpu().numpy() for h in acc_history_scratch['squeezenet']]\n",
        "densenet = [h.cpu().numpy() for h in acc_history_scratch['densenet']]\n",
        "\n",
        "plt.title(\"Validation Accuracy vs. Epochs[Scratch]\")\n",
        "plt.xlabel(\"Epochs\")\n",
        "plt.ylabel(\"Validation Accuracy\")\n",
        "plt.plot(range(1,num_epochs+1),resnet,label=\"Resnet\")\n",
        "plt.plot(range(1,num_epochs+1),alexnet,label=\"Alexnet\")\n",
        "plt.plot(range(1,num_epochs+1),vgg,label=\"VGG\")\n",
        "plt.plot(range(1,num_epochs+1),squeezenet,label=\"Squeezenet\")\n",
        "plt.plot(range(1,num_epochs+1),densenet,label=\"Densenet\")\n",
        "# plt.plot(range(1,num_epochs+1),inception,label=\"Inception\")\n",
        "plt.ylim((0.4,0.9))\n",
        "plt.xticks(np.arange(1, num_epochs + 1, 2.0))\n",
        "plt.legend()\n",
        "plt.savefig(\"scratch_training_zoomed.jpg\", bbox_inches='tight')\n",
        "plt.show()"
      ],
      "execution_count": 0,
      "outputs": [
        {
          "output_type": "display_data",
          "data": {
            "image/png": "[encoded data removed]",
            "text/plain": [
              "<Figure size 432x288 with 1 Axes>"
            ]
          },
          "metadata": {
            "tags": []
          }
        }
      ]
    },
    {
      "cell_type": "code",
      "metadata": {
        "id": "7-eQK3zDi_oU",
        "colab_type": "code",
        "outputId": "67b55449-62eb-4866-8ad2-8599e5e09c27",
        "colab": {
          "base_uri": "https://localhost:8080/",
          "height": 1577
        }
      },
      "source": [
        "acc_history_scratch"
      ],
      "execution_count": 0,
      "outputs": [
        {
          "output_type": "execute_result",
          "data": {
            "text/plain": [
              "{'alexnet': [tensor(0.4871, device='cuda:0', dtype=torch.float64),\n",
              "  tensor(0.6273, device='cuda:0', dtype=torch.float64),\n",
              "  tensor(0.6402, device='cuda:0', dtype=torch.float64),\n",
              "  tensor(0.6671, device='cuda:0', dtype=torch.float64),\n",
              "  tensor(0.6554, device='cuda:0', dtype=torch.float64),\n",
              "  tensor(0.6624, device='cuda:0', dtype=torch.float64),\n",
              "  tensor(0.6671, device='cuda:0', dtype=torch.float64),\n",
              "  tensor(0.6928, device='cuda:0', dtype=torch.float64),\n",
              "  tensor(0.6367, device='cuda:0', dtype=torch.float64),\n",
              "  tensor(0.6939, device='cuda:0', dtype=torch.float64),\n",
              "  tensor(0.7196, device='cuda:0', dtype=torch.float64),\n",
              "  tensor(0.6998, device='cuda:0', dtype=torch.float64),\n",
              "  tensor(0.6589, device='cuda:0', dtype=torch.float64),\n",
              "  tensor(0.7161, device='cuda:0', dtype=torch.float64),\n",
              "  tensor(0.7009, device='cuda:0', dtype=torch.float64),\n",
              "  tensor(0.7231, device='cuda:0', dtype=torch.float64),\n",
              "  tensor(0.6811, device='cuda:0', dtype=torch.float64),\n",
              "  tensor(0.7021, device='cuda:0', dtype=torch.float64),\n",
              "  tensor(0.7325, device='cuda:0', dtype=torch.float64),\n",
              "  tensor(0.7360, device='cuda:0', dtype=torch.float64),\n",
              "  tensor(0.7290, device='cuda:0', dtype=torch.float64),\n",
              "  tensor(0.6951, device='cuda:0', dtype=torch.float64),\n",
              "  tensor(0.7243, device='cuda:0', dtype=torch.float64),\n",
              "  tensor(0.7079, device='cuda:0', dtype=torch.float64),\n",
              "  tensor(0.7243, device='cuda:0', dtype=torch.float64),\n",
              "  tensor(0.7033, device='cuda:0', dtype=torch.float64),\n",
              "  tensor(0.7138, device='cuda:0', dtype=torch.float64),\n",
              "  tensor(0.7103, device='cuda:0', dtype=torch.float64),\n",
              "  tensor(0.6659, device='cuda:0', dtype=torch.float64),\n",
              "  tensor(0.7266, device='cuda:0', dtype=torch.float64)],\n",
              " 'resnet': [tensor(0.7044, device='cuda:0', dtype=torch.float64),\n",
              "  tensor(0.6881, device='cuda:0', dtype=torch.float64),\n",
              "  tensor(0.7138, device='cuda:0', dtype=torch.float64),\n",
              "  tensor(0.7874, device='cuda:0', dtype=torch.float64),\n",
              "  tensor(0.7839, device='cuda:0', dtype=torch.float64),\n",
              "  tensor(0.7687, device='cuda:0', dtype=torch.float64),\n",
              "  tensor(0.7850, device='cuda:0', dtype=torch.float64),\n",
              "  tensor(0.8189, device='cuda:0', dtype=torch.float64),\n",
              "  tensor(0.8119, device='cuda:0', dtype=torch.float64),\n",
              "  tensor(0.8189, device='cuda:0', dtype=torch.float64),\n",
              "  tensor(0.8096, device='cuda:0', dtype=torch.float64),\n",
              "  tensor(0.8318, device='cuda:0', dtype=torch.float64),\n",
              "  tensor(0.7886, device='cuda:0', dtype=torch.float64),\n",
              "  tensor(0.8248, device='cuda:0', dtype=torch.float64),\n",
              "  tensor(0.8259, device='cuda:0', dtype=torch.float64),\n",
              "  tensor(0.8376, device='cuda:0', dtype=torch.float64),\n",
              "  tensor(0.8563, device='cuda:0', dtype=torch.float64),\n",
              "  tensor(0.8364, device='cuda:0', dtype=torch.float64),\n",
              "  tensor(0.8376, device='cuda:0', dtype=torch.float64),\n",
              "  tensor(0.8551, device='cuda:0', dtype=torch.float64),\n",
              "  tensor(0.8259, device='cuda:0', dtype=torch.float64),\n",
              "  tensor(0.8645, device='cuda:0', dtype=torch.float64),\n",
              "  tensor(0.8715, device='cuda:0', dtype=torch.float64),\n",
              "  tensor(0.8586, device='cuda:0', dtype=torch.float64),\n",
              "  tensor(0.8680, device='cuda:0', dtype=torch.float64),\n",
              "  tensor(0.8657, device='cuda:0', dtype=torch.float64),\n",
              "  tensor(0.8738, device='cuda:0', dtype=torch.float64),\n",
              "  tensor(0.8750, device='cuda:0', dtype=torch.float64),\n",
              "  tensor(0.8470, device='cuda:0', dtype=torch.float64),\n",
              "  tensor(0.8843, device='cuda:0', dtype=torch.float64)],\n",
              " 'vgg': [tensor(0.4206, device='cuda:0', dtype=torch.float64),\n",
              "  tensor(0.2699, device='cuda:0', dtype=torch.float64),\n",
              "  tensor(0.2699, device='cuda:0', dtype=torch.float64),\n",
              "  tensor(0.2664, device='cuda:0', dtype=torch.float64),\n",
              "  tensor(0.2699, device='cuda:0', dtype=torch.float64),\n",
              "  tensor(0.2699, device='cuda:0', dtype=torch.float64),\n",
              "  tensor(0.2699, device='cuda:0', dtype=torch.float64),\n",
              "  tensor(0.2699, device='cuda:0', dtype=torch.float64),\n",
              "  tensor(0.2699, device='cuda:0', dtype=torch.float64),\n",
              "  tensor(0.2699, device='cuda:0', dtype=torch.float64),\n",
              "  tensor(0.2699, device='cuda:0', dtype=torch.float64),\n",
              "  tensor(0.2699, device='cuda:0', dtype=torch.float64),\n",
              "  tensor(0.2699, device='cuda:0', dtype=torch.float64),\n",
              "  tensor(0.2699, device='cuda:0', dtype=torch.float64),\n",
              "  tensor(0.2699, device='cuda:0', dtype=torch.float64),\n",
              "  tensor(0.2664, device='cuda:0', dtype=torch.float64),\n",
              "  tensor(0.2699, device='cuda:0', dtype=torch.float64),\n",
              "  tensor(0.2699, device='cuda:0', dtype=torch.float64),\n",
              "  tensor(0.2664, device='cuda:0', dtype=torch.float64),\n",
              "  tensor(0.2699, device='cuda:0', dtype=torch.float64),\n",
              "  tensor(0.2664, device='cuda:0', dtype=torch.float64),\n",
              "  tensor(0.2664, device='cuda:0', dtype=torch.float64),\n",
              "  tensor(0.2699, device='cuda:0', dtype=torch.float64),\n",
              "  tensor(0.2664, device='cuda:0', dtype=torch.float64),\n",
              "  tensor(0.2664, device='cuda:0', dtype=torch.float64),\n",
              "  tensor(0.2699, device='cuda:0', dtype=torch.float64),\n",
              "  tensor(0.2699, device='cuda:0', dtype=torch.float64),\n",
              "  tensor(0.2699, device='cuda:0', dtype=torch.float64),\n",
              "  tensor(0.2664, device='cuda:0', dtype=torch.float64),\n",
              "  tensor(0.2699, device='cuda:0', dtype=torch.float64)]}"
            ]
          },
          "metadata": {
            "tags": []
          },
          "execution_count": 52
        }
      ]
    },
    {
      "cell_type": "code",
      "metadata": {
        "id": "VuvlXZNajAEA",
        "colab_type": "code",
        "colab": {}
      },
      "source": [
        ""
      ],
      "execution_count": 0,
      "outputs": []
    },
    {
      "cell_type": "code",
      "metadata": {
        "id": "joggo1UVeOd-",
        "colab_type": "code",
        "colab": {}
      },
      "source": [
        ""
      ],
      "execution_count": 0,
      "outputs": []
    },
    {
      "cell_type": "code",
      "metadata": {
        "id": "pcpFThZljBKp",
        "colab_type": "code",
        "colab": {}
      },
      "source": [
        ""
      ],
      "execution_count": 0,
      "outputs": []
    },
    {
      "cell_type": "code",
      "metadata": {
        "id": "XVfmlJKJjBn1",
        "colab_type": "code",
        "colab": {}
      },
      "source": [
        ""
      ],
      "execution_count": 0,
      "outputs": []
    },
    {
      "cell_type": "code",
      "metadata": {
        "id": "hE647u3EeR6M",
        "colab_type": "code",
        "colab": {}
      },
      "source": [
        ""
      ],
      "execution_count": 0,
      "outputs": []
    },
    {
      "cell_type": "code",
      "metadata": {
        "id": "0-LYw6TmjCkz",
        "colab_type": "code",
        "colab": {}
      },
      "source": [
        ""
      ],
      "execution_count": 0,
      "outputs": []
    },
    {
      "cell_type": "code",
      "metadata": {
        "id": "Olf0TRMIjC-2",
        "colab_type": "code",
        "colab": {}
      },
      "source": [
        ""
      ],
      "execution_count": 0,
      "outputs": []
    },
    {
      "cell_type": "code",
      "metadata": {
        "id": "InFNX9KreVYZ",
        "colab_type": "code",
        "colab": {}
      },
      "source": [
        ""
      ],
      "execution_count": 0,
      "outputs": []
    },
    {
      "cell_type": "code",
      "metadata": {
        "id": "cwYdWbpuCxaY",
        "colab_type": "code",
        "colab": {}
      },
      "source": [
        ""
      ],
      "execution_count": 0,
      "outputs": []
    },
    {
      "cell_type": "code",
      "metadata": {
        "id": "yLu9BLaFCxaa",
        "colab_type": "code",
        "colab": {}
      },
      "source": [
        ""
      ],
      "execution_count": 0,
      "outputs": []
    },
    {
      "cell_type": "code",
      "metadata": {
        "id": "SGGflqQ5C9ji",
        "colab_type": "code",
        "colab": {}
      },
      "source": [
        ""
      ],
      "execution_count": 0,
      "outputs": []
    },
    {
      "cell_type": "code",
      "metadata": {
        "id": "H0YjeqcXDAPH",
        "colab_type": "code",
        "colab": {}
      },
      "source": [
        ""
      ],
      "execution_count": 0,
      "outputs": []
    },
    {
      "cell_type": "code",
      "metadata": {
        "id": "eKp46CKwDUNx",
        "colab_type": "code",
        "colab": {}
      },
      "source": [
        ""
      ],
      "execution_count": 0,
      "outputs": []
    },
    {
      "cell_type": "code",
      "metadata": {
        "id": "yePhsrTu5T0v",
        "colab_type": "code",
        "colab": {}
      },
      "source": [
        ""
      ],
      "execution_count": 0,
      "outputs": []
    },
    {
      "cell_type": "markdown",
      "metadata": {
        "id": "T8tS2bfK5ezi",
        "colab_type": "text"
      },
      "source": [
        "# New Section"
      ]
    }
  ]
}